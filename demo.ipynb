{
 "cells": [
  {
   "cell_type": "code",
   "execution_count": 2,
   "metadata": {},
   "outputs": [],
   "source": [
    "using Zygote\n",
    "using LinearAlgebra"
   ]
  },
  {
   "cell_type": "code",
   "execution_count": null,
   "metadata": {},
   "outputs": [],
   "source": [
    "gradient(x -> sum(x), [1, 2, 3])"
   ]
  },
  {
   "cell_type": "code",
   "execution_count": null,
   "metadata": {},
   "outputs": [],
   "source": [
    "gradient(x -> sum(x) + x[end]^2, [1, 2, 3, 4, 5, 6])"
   ]
  },
  {
   "cell_type": "code",
   "execution_count": null,
   "metadata": {},
   "outputs": [],
   "source": [
    "gradient((a, b) -> a*b, 2, 3)"
   ]
  },
  {
   "cell_type": "code",
   "execution_count": null,
   "metadata": {},
   "outputs": [],
   "source": [
    "# simple MLP 3\n",
    "\n",
    "W = rand(1, 3)\n",
    "x = rand(3)\n",
    "\n",
    "sigmoid = x -> 1/(1 + exp(-x))\n",
    "\n",
    "gradient(W -> sigmoid(dot(W,x)), W)"
   ]
  },
  {
   "cell_type": "code",
   "execution_count": null,
   "metadata": {},
   "outputs": [],
   "source": [
    "W*x"
   ]
  },
  {
   "cell_type": "code",
   "execution_count": 21,
   "metadata": {},
   "outputs": [
    {
     "data": {
      "text/plain": [
       "jac_fx (generic function with 1 method)"
      ]
     },
     "metadata": {},
     "output_type": "display_data"
    }
   ],
   "source": [
    "function f(x, Δt)\n",
    "    position = x[1:3]\n",
    "    quaternion = x[4:7]\n",
    "    velocity = x[8:10]\n",
    "    angular_vel = x[11:13]\n",
    "\n",
    "    # quaternion update\n",
    "    r = angular_vel\n",
    "    mag = norm(r)\n",
    "\n",
    "    sᵣ = cos(mag*Δt / 2.0)\n",
    "    vᵣ = sin(mag*Δt / 2.0) * r/mag\n",
    "\n",
    "    sₙ = quaternion[1]\n",
    "    vₙ = quaternion[2:4]\n",
    "\n",
    "    s = sₙ*sᵣ - vₙ'*vᵣ\n",
    "    v = sₙ*vᵣ+sᵣ*vₙ+vₙ×vᵣ\n",
    "\n",
    "    new_position = position + Δt * velocity\n",
    "    new_quaternion = [s; v]\n",
    "    return [new_position; new_quaternion; velocity; angular_vel]\n",
    "end\n",
    "\n",
    "function jac_fx(x, Δ)\n",
    "    jacobian(state -> f(state, Δ), x)[1]\n",
    "end"
   ]
  },
  {
   "cell_type": "code",
   "execution_count": 23,
   "metadata": {},
   "outputs": [
    {
     "data": {
      "text/plain": [
       "13-element Vector{Float64}:\n",
       " 0.0\n",
       " 0.0\n",
       " 1.0\n",
       " 0.0\n",
       " 0.0\n",
       " 0.0\n",
       " 1.0\n",
       " 0.0\n",
       " 0.0\n",
       " 0.0\n",
       " 0.0\n",
       " 0.0\n",
       " 0.0"
      ]
     },
     "metadata": {},
     "output_type": "display_data"
    }
   ],
   "source": [
    "Δ = 0.1\n",
    "x₀ = zeros(13)\n",
    "x₀[3] = 1 # body off ground\n",
    "x₀[7] = 1\n",
    "\n",
    "x₀"
   ]
  },
  {
   "cell_type": "code",
   "execution_count": 24,
   "metadata": {},
   "outputs": [
    {
     "data": {
      "text/plain": [
       "13-element Vector{Float64}:\n",
       "   0.0\n",
       "   0.0\n",
       "   1.0\n",
       " NaN\n",
       " NaN\n",
       " NaN\n",
       " NaN\n",
       "   0.0\n",
       "   0.0\n",
       "   0.0\n",
       "   0.0\n",
       "   0.0\n",
       "   0.0"
      ]
     },
     "metadata": {},
     "output_type": "display_data"
    }
   ],
   "source": [
    "f(x₀, Δ)"
   ]
  },
  {
   "cell_type": "code",
   "execution_count": null,
   "metadata": {},
   "outputs": [],
   "source": [
    "jac_fx(x, Δ)"
   ]
  },
  {
   "cell_type": "code",
   "execution_count": 3,
   "metadata": {},
   "outputs": [],
   "source": [
    "using Revise, VehicleSim"
   ]
  },
  {
   "cell_type": "code",
   "execution_count": 11,
   "metadata": {},
   "outputs": [],
   "source": [
    "using Rotations"
   ]
  },
  {
   "cell_type": "code",
   "execution_count": 15,
   "metadata": {},
   "outputs": [
    {
     "data": {
      "text/plain": [
       "get_imu_transform (generic function with 1 method)"
      ]
     },
     "metadata": {},
     "output_type": "display_data"
    }
   ],
   "source": [
    "function get_imu_transform()\n",
    "    R_imu_in_body = [0.9998 0.0 0.0199987;\n",
    "                     0.0    1.0      0.0;\n",
    "                     -0.0199987 0.0 0.9998]\n",
    "    t_imu_in_body = [0, 0, 0.7]\n",
    "\n",
    "    T = [R_imu_in_body t_imu_in_body]\n",
    "end"
   ]
  },
  {
   "cell_type": "code",
   "execution_count": 12,
   "metadata": {},
   "outputs": [
    {
     "data": {
      "text/plain": [
       "3×3 RotY{Float64} with indices SOneTo(3)×SOneTo(3)(0.02):\n",
       "  0.9998     0.0  0.0199987\n",
       "  0.0        1.0  0.0\n",
       " -0.0199987  0.0  0.9998"
      ]
     },
     "metadata": {},
     "output_type": "display_data"
    }
   ],
   "source": [
    "RotY(0.02)"
   ]
  },
  {
   "cell_type": "code",
   "execution_count": 16,
   "metadata": {},
   "outputs": [
    {
     "data": {
      "text/plain": [
       "jac_hx (generic function with 1 method)"
      ]
     },
     "metadata": {},
     "output_type": "display_data"
    }
   ],
   "source": [
    "function h(x, output_gps_measurement=true)\n",
    "    if output_gps_measurement\n",
    "        # output in GPS frame\n",
    "        T_body_to_gps = VehicleSim.get_gps_transform()\n",
    "        gps_loc_body = T_body_to_gps*[zeros(3); 1.0]\n",
    "\n",
    "        xyz_body = x[1:3]\n",
    "        q_body = x[4:7]\n",
    "        Tbody = VehicleSim.get_body_transform(q_body, xyz_body)\n",
    "        xyz_gps = Tbody * [gps_loc_body; 1]\n",
    "        return xyz_gps[1:2]\n",
    "    else\n",
    "        # output in IMU frame\n",
    "        T_body_imu = get_imu_transform()\n",
    "        T_imu_body = VehicleSim.invert_transform(T_body_imu)\n",
    "        R = T_imu_body[1:3,1:3]\n",
    "        p = T_imu_body[1:3,end]\n",
    "\n",
    "        v_body = x[8:10]\n",
    "        ω_body = x[11:13]\n",
    "\n",
    "        ω_imu = R * ω_body\n",
    "        v_imu = R * v_body + p × ω_imu\n",
    "\n",
    "        return [v_imu; ω_imu]\n",
    "    end\n",
    "end\n",
    "\n",
    "function jac_hx(x, output_gps_measurement)\n",
    "    jacobian(state -> h(state, output_gps_measurement), x)\n",
    "end"
   ]
  },
  {
   "cell_type": "code",
   "execution_count": 17,
   "metadata": {},
   "outputs": [
    {
     "data": {
      "text/plain": [
       "2-element Vector{Float64}:\n",
       "  11.4\n",
       " -11.0"
      ]
     },
     "metadata": {},
     "output_type": "display_data"
    }
   ],
   "source": [
    "h(x, true)"
   ]
  },
  {
   "cell_type": "code",
   "execution_count": 18,
   "metadata": {},
   "outputs": [
    {
     "data": {
      "text/plain": [
       "6-element Vector{Float64}:\n",
       " 1.6796613201530972\n",
       " 0.29999999160118307\n",
       " 1.0337978024038263\n",
       " 0.9798013117559599\n",
       " 1.0\n",
       " 1.019798712235861"
      ]
     },
     "metadata": {},
     "output_type": "display_data"
    }
   ],
   "source": [
    "h(x, false)"
   ]
  },
  {
   "cell_type": "code",
   "execution_count": 19,
   "metadata": {},
   "outputs": [
    {
     "data": {
      "text/plain": [
       "2×13 Matrix{Float64}:\n",
       " 1.0  0.0  0.0  -2.8    1.2  13.2   9.2  0.0  0.0  0.0  0.0  0.0  0.0\n",
       " 0.0  1.0  0.0  -9.2  -13.2   1.2  -2.8  0.0  0.0  0.0  0.0  0.0  0.0"
      ]
     },
     "metadata": {},
     "output_type": "display_data"
    }
   ],
   "source": [
    "jac_hx(x, true)[1]"
   ]
  },
  {
   "cell_type": "code",
   "execution_count": 20,
   "metadata": {},
   "outputs": [
    {
     "data": {
      "text/plain": [
       "6×13 Matrix{Float64}:\n",
       " 0.0  0.0  0.0  0.0  0.0  0.0  0.0  …   0.0        0.69986     0.0\n",
       " 0.0  0.0  0.0  0.0  0.0  0.0  0.0     -0.7        0.0         0.0\n",
       " 0.0  0.0  0.0  0.0  0.0  0.0  0.0      0.0        0.0139991   0.0\n",
       " 0.0  0.0  0.0  0.0  0.0  0.0  0.0      0.9998     0.0        -0.0199987\n",
       " 0.0  0.0  0.0  0.0  0.0  0.0  0.0      0.0        1.0         0.0\n",
       " 0.0  0.0  0.0  0.0  0.0  0.0  0.0  …   0.0199987  0.0         0.9998"
      ]
     },
     "metadata": {},
     "output_type": "display_data"
    }
   ],
   "source": [
    "jac_hx(x, false)[1]"
   ]
  },
  {
   "cell_type": "code",
   "execution_count": null,
   "metadata": {},
   "outputs": [],
   "source": []
  }
 ],
 "metadata": {
  "kernelspec": {
   "display_name": "Julia 1.8.1",
   "language": "julia",
   "name": "julia-1.8"
  },
  "language_info": {
   "file_extension": ".jl",
   "mimetype": "application/julia",
   "name": "julia",
   "version": "1.8.1"
  },
  "orig_nbformat": 4
 },
 "nbformat": 4,
 "nbformat_minor": 2
}
